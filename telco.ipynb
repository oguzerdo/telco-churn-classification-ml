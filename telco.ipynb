{
 "cells": [
  {
   "cell_type": "markdown",
   "metadata": {},
   "source": [
    "# Telco Customer Churn Prediction\n",
    "![TELCO](https://github.com/oguzerdo/telco-churn-prediction-ml/blob/main/images/telco.png?raw=true)\n",
    "\n",
    "# Business Problem\n",
    "\n",
    "It is expected to develop a machine learning model that can predict customers who will leave the company.\n",
    "\n",
    "# Dataset Info\n",
    "\n",
    "- customerID: Customer ID\n",
    "\n",
    "- gender: Whether the customer is a male or a female\n",
    "\n",
    "- SeniorCitizen: Whether the customer is a senior citizen or not (1, 0)\n",
    "\n",
    "- Partner: Whether the customer has a partner or not (Yes, No)\n",
    "\n",
    "- Dependents: Whether the customer has dependents or not (Yes, No)\n",
    "\n",
    "- tenure: Number of months the customer has stayed with the company\n",
    "\n",
    "- PhoneService: Whether the customer has a phone service or not (Yes, No)\n",
    "\n",
    "- MultipleLines: Whether the customer has multiple lines or not (Yes, No, No phone service)\n",
    "\n",
    "- InternetService: Customer’s internet service provider (DSL, Fiber optic, No)\n",
    "\n",
    "- OnlineSecurity: Whether the customer has online security or not (Yes, No, No internet service)\n",
    "\n",
    "- OnlineBackup: Whether the customer has online backup or not (Yes, No, No internet service)\n",
    "\n",
    "- DeviceProtection: Whether the customer has device protection or not (Yes, No, No internet service)\n",
    "\n",
    "- TechSupport: Whether the customer has tech support or not (Yes, No, No internet service)\n",
    "\n",
    "- StreamingTV: Whether the customer has streaming TV or not (Yes, No, No internet service)\n",
    "\n",
    "- StreamingMovies: Whether the customer has streaming movies or not (Yes, No, No internet service)\n",
    "\n",
    "- Contract: The contract term of the customer (Month-to-month, One year, Two year)\n",
    "\n",
    "- PaperlessBilling: Whether the customer has paperless billing or not (Yes, No)\n",
    "\n",
    "- PaymentMethod: The customer’s payment method (Electronic check, Mailed check, Bank transfer (automatic), Credit card (automatic))\n",
    "\n",
    "- MonthlyCharges: The amount charged to the customer monthly\n",
    "\n",
    "- TotalCharges: The total amount charged to the customer\n",
    "\n",
    "- Churn: Whether the customer churned or not (Yes or No)"
   ]
  },
  {
   "cell_type": "code",
   "execution_count": 135,
   "metadata": {},
   "outputs": [],
   "source": [
    "import numpy as np\n",
    "import pandas as pd\n",
    "import matplotlib.pyplot as plt\n",
    "import seaborn as sns\n",
    "from helpers import *\n",
    "\n",
    "from sklearn.metrics import confusion_matrix\n",
    "from sklearn.linear_model import LogisticRegression\n",
    "from sklearn.neighbors import KNeighborsClassifier\n",
    "from sklearn.preprocessing import LabelEncoder\n",
    "from sklearn.model_selection import GridSearchCV, cross_validate\n",
    "from sklearn.tree import DecisionTreeClassifier\n",
    "from sklearn.ensemble import RandomForestClassifier, VotingClassifier\n",
    "from lightgbm import LGBMClassifier\n",
    "from xgboost import XGBClassifier\n",
    "from sklearn.svm import SVC\n",
    "\n",
    "import warnings\n",
    "warnings.simplefilter(action=\"ignore\")\n",
    "\n",
    "pd.set_option('display.max_columns', None)\n",
    "pd.set_option('display.width', 170)\n",
    "pd.set_option('display.max_rows', None)\n",
    "pd.set_option('display.float_format', lambda x: '%.3f' % x)"
   ]
  },
  {
   "cell_type": "code",
   "execution_count": 63,
   "metadata": {},
   "outputs": [],
   "source": [
    "df = pd.read_csv(\"data/Telco-Customer-Churn.csv\")"
   ]
  },
  {
   "cell_type": "code",
   "execution_count": 64,
   "metadata": {},
   "outputs": [
    {
     "data": {
      "text/html": [
       "<div>\n",
       "<style scoped>\n",
       "    .dataframe tbody tr th:only-of-type {\n",
       "        vertical-align: middle;\n",
       "    }\n",
       "\n",
       "    .dataframe tbody tr th {\n",
       "        vertical-align: top;\n",
       "    }\n",
       "\n",
       "    .dataframe thead th {\n",
       "        text-align: right;\n",
       "    }\n",
       "</style>\n",
       "<table border=\"1\" class=\"dataframe\">\n",
       "  <thead>\n",
       "    <tr style=\"text-align: right;\">\n",
       "      <th></th>\n",
       "      <th>customerID</th>\n",
       "      <th>gender</th>\n",
       "      <th>SeniorCitizen</th>\n",
       "      <th>Partner</th>\n",
       "      <th>Dependents</th>\n",
       "      <th>tenure</th>\n",
       "      <th>PhoneService</th>\n",
       "      <th>MultipleLines</th>\n",
       "      <th>InternetService</th>\n",
       "      <th>OnlineSecurity</th>\n",
       "      <th>OnlineBackup</th>\n",
       "      <th>DeviceProtection</th>\n",
       "      <th>TechSupport</th>\n",
       "      <th>StreamingTV</th>\n",
       "      <th>StreamingMovies</th>\n",
       "      <th>Contract</th>\n",
       "      <th>PaperlessBilling</th>\n",
       "      <th>PaymentMethod</th>\n",
       "      <th>MonthlyCharges</th>\n",
       "      <th>TotalCharges</th>\n",
       "      <th>Churn</th>\n",
       "    </tr>\n",
       "  </thead>\n",
       "  <tbody>\n",
       "    <tr>\n",
       "      <th>0</th>\n",
       "      <td>7590-VHVEG</td>\n",
       "      <td>Female</td>\n",
       "      <td>0</td>\n",
       "      <td>Yes</td>\n",
       "      <td>No</td>\n",
       "      <td>1</td>\n",
       "      <td>No</td>\n",
       "      <td>No phone service</td>\n",
       "      <td>DSL</td>\n",
       "      <td>No</td>\n",
       "      <td>Yes</td>\n",
       "      <td>No</td>\n",
       "      <td>No</td>\n",
       "      <td>No</td>\n",
       "      <td>No</td>\n",
       "      <td>Month-to-month</td>\n",
       "      <td>Yes</td>\n",
       "      <td>Electronic check</td>\n",
       "      <td>29.850</td>\n",
       "      <td>29.85</td>\n",
       "      <td>No</td>\n",
       "    </tr>\n",
       "    <tr>\n",
       "      <th>1</th>\n",
       "      <td>5575-GNVDE</td>\n",
       "      <td>Male</td>\n",
       "      <td>0</td>\n",
       "      <td>No</td>\n",
       "      <td>No</td>\n",
       "      <td>34</td>\n",
       "      <td>Yes</td>\n",
       "      <td>No</td>\n",
       "      <td>DSL</td>\n",
       "      <td>Yes</td>\n",
       "      <td>No</td>\n",
       "      <td>Yes</td>\n",
       "      <td>No</td>\n",
       "      <td>No</td>\n",
       "      <td>No</td>\n",
       "      <td>One year</td>\n",
       "      <td>No</td>\n",
       "      <td>Mailed check</td>\n",
       "      <td>56.950</td>\n",
       "      <td>1889.5</td>\n",
       "      <td>No</td>\n",
       "    </tr>\n",
       "    <tr>\n",
       "      <th>2</th>\n",
       "      <td>3668-QPYBK</td>\n",
       "      <td>Male</td>\n",
       "      <td>0</td>\n",
       "      <td>No</td>\n",
       "      <td>No</td>\n",
       "      <td>2</td>\n",
       "      <td>Yes</td>\n",
       "      <td>No</td>\n",
       "      <td>DSL</td>\n",
       "      <td>Yes</td>\n",
       "      <td>Yes</td>\n",
       "      <td>No</td>\n",
       "      <td>No</td>\n",
       "      <td>No</td>\n",
       "      <td>No</td>\n",
       "      <td>Month-to-month</td>\n",
       "      <td>Yes</td>\n",
       "      <td>Mailed check</td>\n",
       "      <td>53.850</td>\n",
       "      <td>108.15</td>\n",
       "      <td>Yes</td>\n",
       "    </tr>\n",
       "    <tr>\n",
       "      <th>3</th>\n",
       "      <td>7795-CFOCW</td>\n",
       "      <td>Male</td>\n",
       "      <td>0</td>\n",
       "      <td>No</td>\n",
       "      <td>No</td>\n",
       "      <td>45</td>\n",
       "      <td>No</td>\n",
       "      <td>No phone service</td>\n",
       "      <td>DSL</td>\n",
       "      <td>Yes</td>\n",
       "      <td>No</td>\n",
       "      <td>Yes</td>\n",
       "      <td>Yes</td>\n",
       "      <td>No</td>\n",
       "      <td>No</td>\n",
       "      <td>One year</td>\n",
       "      <td>No</td>\n",
       "      <td>Bank transfer (automatic)</td>\n",
       "      <td>42.300</td>\n",
       "      <td>1840.75</td>\n",
       "      <td>No</td>\n",
       "    </tr>\n",
       "    <tr>\n",
       "      <th>4</th>\n",
       "      <td>9237-HQITU</td>\n",
       "      <td>Female</td>\n",
       "      <td>0</td>\n",
       "      <td>No</td>\n",
       "      <td>No</td>\n",
       "      <td>2</td>\n",
       "      <td>Yes</td>\n",
       "      <td>No</td>\n",
       "      <td>Fiber optic</td>\n",
       "      <td>No</td>\n",
       "      <td>No</td>\n",
       "      <td>No</td>\n",
       "      <td>No</td>\n",
       "      <td>No</td>\n",
       "      <td>No</td>\n",
       "      <td>Month-to-month</td>\n",
       "      <td>Yes</td>\n",
       "      <td>Electronic check</td>\n",
       "      <td>70.700</td>\n",
       "      <td>151.65</td>\n",
       "      <td>Yes</td>\n",
       "    </tr>\n",
       "  </tbody>\n",
       "</table>\n",
       "</div>"
      ],
      "text/plain": [
       "   customerID  gender  SeniorCitizen Partner Dependents  tenure PhoneService     MultipleLines InternetService OnlineSecurity OnlineBackup DeviceProtection TechSupport  \\\n",
       "0  7590-VHVEG  Female              0     Yes         No       1           No  No phone service             DSL             No          Yes               No          No   \n",
       "1  5575-GNVDE    Male              0      No         No      34          Yes                No             DSL            Yes           No              Yes          No   \n",
       "2  3668-QPYBK    Male              0      No         No       2          Yes                No             DSL            Yes          Yes               No          No   \n",
       "3  7795-CFOCW    Male              0      No         No      45           No  No phone service             DSL            Yes           No              Yes         Yes   \n",
       "4  9237-HQITU  Female              0      No         No       2          Yes                No     Fiber optic             No           No               No          No   \n",
       "\n",
       "  StreamingTV StreamingMovies        Contract PaperlessBilling              PaymentMethod  MonthlyCharges TotalCharges Churn  \n",
       "0          No              No  Month-to-month              Yes           Electronic check          29.850        29.85    No  \n",
       "1          No              No        One year               No               Mailed check          56.950       1889.5    No  \n",
       "2          No              No  Month-to-month              Yes               Mailed check          53.850       108.15   Yes  \n",
       "3          No              No        One year               No  Bank transfer (automatic)          42.300      1840.75    No  \n",
       "4          No              No  Month-to-month              Yes           Electronic check          70.700       151.65   Yes  "
      ]
     },
     "execution_count": 64,
     "metadata": {},
     "output_type": "execute_result"
    }
   ],
   "source": [
    "df.head()"
   ]
  },
  {
   "cell_type": "code",
   "execution_count": 65,
   "metadata": {},
   "outputs": [
    {
     "name": "stdout",
     "output_type": "stream",
     "text": [
      "<class 'pandas.core.frame.DataFrame'>\n",
      "RangeIndex: 7043 entries, 0 to 7042\n",
      "Data columns (total 21 columns):\n",
      " #   Column            Non-Null Count  Dtype  \n",
      "---  ------            --------------  -----  \n",
      " 0   customerID        7043 non-null   object \n",
      " 1   gender            7043 non-null   object \n",
      " 2   SeniorCitizen     7043 non-null   int64  \n",
      " 3   Partner           7043 non-null   object \n",
      " 4   Dependents        7043 non-null   object \n",
      " 5   tenure            7043 non-null   int64  \n",
      " 6   PhoneService      7043 non-null   object \n",
      " 7   MultipleLines     7043 non-null   object \n",
      " 8   InternetService   7043 non-null   object \n",
      " 9   OnlineSecurity    7043 non-null   object \n",
      " 10  OnlineBackup      7043 non-null   object \n",
      " 11  DeviceProtection  7043 non-null   object \n",
      " 12  TechSupport       7043 non-null   object \n",
      " 13  StreamingTV       7043 non-null   object \n",
      " 14  StreamingMovies   7043 non-null   object \n",
      " 15  Contract          7043 non-null   object \n",
      " 16  PaperlessBilling  7043 non-null   object \n",
      " 17  PaymentMethod     7043 non-null   object \n",
      " 18  MonthlyCharges    7043 non-null   float64\n",
      " 19  TotalCharges      7043 non-null   object \n",
      " 20  Churn             7043 non-null   object \n",
      "dtypes: float64(1), int64(2), object(18)\n",
      "memory usage: 1.1+ MB\n"
     ]
    }
   ],
   "source": [
    "df.info()"
   ]
  },
  {
   "cell_type": "code",
   "execution_count": 66,
   "metadata": {},
   "outputs": [],
   "source": [
    "# TotalCharges should be numerical\n",
    "df[\"TotalCharges\"] = pd.to_numeric(df[\"TotalCharges\"], errors='coerce')"
   ]
  },
  {
   "cell_type": "code",
   "execution_count": 67,
   "metadata": {},
   "outputs": [],
   "source": [
    "# Label Encode Churn to 1 - 0\n",
    "df[\"Churn\"] = df[\"Churn\"].apply(lambda x : 1 if x == \"Yes\" else 0)"
   ]
  },
  {
   "cell_type": "markdown",
   "metadata": {},
   "source": [
    "# 1. Exploratory Data Analysis"
   ]
  },
  {
   "cell_type": "code",
   "execution_count": 68,
   "metadata": {},
   "outputs": [
    {
     "name": "stdout",
     "output_type": "stream",
     "text": [
      "##################### Shape #####################\n",
      "(7043, 21)\n",
      "##################### Types #####################\n",
      "customerID           object\n",
      "gender               object\n",
      "SeniorCitizen         int64\n",
      "Partner              object\n",
      "Dependents           object\n",
      "tenure                int64\n",
      "PhoneService         object\n",
      "MultipleLines        object\n",
      "InternetService      object\n",
      "OnlineSecurity       object\n",
      "OnlineBackup         object\n",
      "DeviceProtection     object\n",
      "TechSupport          object\n",
      "StreamingTV          object\n",
      "StreamingMovies      object\n",
      "Contract             object\n",
      "PaperlessBilling     object\n",
      "PaymentMethod        object\n",
      "MonthlyCharges      float64\n",
      "TotalCharges        float64\n",
      "Churn                 int64\n",
      "dtype: object\n",
      "##################### Head #####################\n",
      "   customerID  gender  SeniorCitizen Partner Dependents  tenure PhoneService     MultipleLines InternetService OnlineSecurity OnlineBackup DeviceProtection TechSupport  \\\n",
      "0  7590-VHVEG  Female              0     Yes         No       1           No  No phone service             DSL             No          Yes               No          No   \n",
      "1  5575-GNVDE    Male              0      No         No      34          Yes                No             DSL            Yes           No              Yes          No   \n",
      "2  3668-QPYBK    Male              0      No         No       2          Yes                No             DSL            Yes          Yes               No          No   \n",
      "3  7795-CFOCW    Male              0      No         No      45           No  No phone service             DSL            Yes           No              Yes         Yes   \n",
      "4  9237-HQITU  Female              0      No         No       2          Yes                No     Fiber optic             No           No               No          No   \n",
      "\n",
      "  StreamingTV StreamingMovies        Contract PaperlessBilling              PaymentMethod  MonthlyCharges  TotalCharges  Churn  \n",
      "0          No              No  Month-to-month              Yes           Electronic check          29.850        29.850      0  \n",
      "1          No              No        One year               No               Mailed check          56.950      1889.500      0  \n",
      "2          No              No  Month-to-month              Yes               Mailed check          53.850       108.150      1  \n",
      "3          No              No        One year               No  Bank transfer (automatic)          42.300      1840.750      0  \n",
      "4          No              No  Month-to-month              Yes           Electronic check          70.700       151.650      1  \n",
      "##################### Tail #####################\n",
      "      customerID  gender  SeniorCitizen Partner Dependents  tenure PhoneService     MultipleLines InternetService OnlineSecurity OnlineBackup DeviceProtection  \\\n",
      "7038  6840-RESVB    Male              0     Yes        Yes      24          Yes               Yes             DSL            Yes           No              Yes   \n",
      "7039  2234-XADUH  Female              0     Yes        Yes      72          Yes               Yes     Fiber optic             No          Yes              Yes   \n",
      "7040  4801-JZAZL  Female              0     Yes        Yes      11           No  No phone service             DSL            Yes           No               No   \n",
      "7041  8361-LTMKD    Male              1     Yes         No       4          Yes               Yes     Fiber optic             No           No               No   \n",
      "7042  3186-AJIEK    Male              0      No         No      66          Yes                No     Fiber optic            Yes           No              Yes   \n",
      "\n",
      "     TechSupport StreamingTV StreamingMovies        Contract PaperlessBilling              PaymentMethod  MonthlyCharges  TotalCharges  Churn  \n",
      "7038         Yes         Yes             Yes        One year              Yes               Mailed check          84.800      1990.500      0  \n",
      "7039          No         Yes             Yes        One year              Yes    Credit card (automatic)         103.200      7362.900      0  \n",
      "7040          No          No              No  Month-to-month              Yes           Electronic check          29.600       346.450      0  \n",
      "7041          No          No              No  Month-to-month              Yes               Mailed check          74.400       306.600      1  \n",
      "7042         Yes         Yes             Yes        Two year              Yes  Bank transfer (automatic)         105.650      6844.500      0  \n",
      "##################### NA #####################\n",
      "customerID           0\n",
      "gender               0\n",
      "SeniorCitizen        0\n",
      "Partner              0\n",
      "Dependents           0\n",
      "tenure               0\n",
      "PhoneService         0\n",
      "MultipleLines        0\n",
      "InternetService      0\n",
      "OnlineSecurity       0\n",
      "OnlineBackup         0\n",
      "DeviceProtection     0\n",
      "TechSupport          0\n",
      "StreamingTV          0\n",
      "StreamingMovies      0\n",
      "Contract             0\n",
      "PaperlessBilling     0\n",
      "PaymentMethod        0\n",
      "MonthlyCharges       0\n",
      "TotalCharges        11\n",
      "Churn                0\n",
      "dtype: int64\n",
      "##################### Quantiles #####################\n",
      "                0.000  0.050    0.500    0.950    0.990    1.000\n",
      "SeniorCitizen   0.000  0.000    0.000    1.000    1.000    1.000\n",
      "tenure          0.000  1.000   29.000   72.000   72.000   72.000\n",
      "MonthlyCharges 18.250 19.650   70.350  107.400  114.729  118.750\n",
      "TotalCharges   18.800 49.605 1397.475 6923.590 8039.883 8684.800\n",
      "Churn           0.000  0.000    0.000    1.000    1.000    1.000\n"
     ]
    }
   ],
   "source": [
    "check_df(df)"
   ]
  },
  {
   "cell_type": "markdown",
   "metadata": {},
   "source": [
    "### Get numeric and categorical variables"
   ]
  },
  {
   "cell_type": "code",
   "execution_count": 69,
   "metadata": {},
   "outputs": [
    {
     "name": "stdout",
     "output_type": "stream",
     "text": [
      "Observations: 7043\n",
      "Variables: 21\n",
      "cat_cols: 17\n",
      "num_cols: 3\n",
      "cat_but_car: 1\n",
      "num_but_cat: 2\n"
     ]
    }
   ],
   "source": [
    "cat_cols, num_cols, cat_but_car = grab_col_names(df)"
   ]
  },
  {
   "cell_type": "code",
   "execution_count": 70,
   "metadata": {},
   "outputs": [
    {
     "name": "stdout",
     "output_type": "stream",
     "text": [
      "Categorical Columns: ['gender', 'Partner', 'Dependents', 'PhoneService', 'MultipleLines', 'InternetService', 'OnlineSecurity', 'OnlineBackup', 'DeviceProtection', 'TechSupport', 'StreamingTV', 'StreamingMovies', 'Contract', 'PaperlessBilling', 'PaymentMethod', 'SeniorCitizen', 'Churn']\n",
      "\n",
      "Numerical Columns: ['tenure', 'MonthlyCharges', 'TotalCharges']\n",
      "\n",
      "High Cardinality Columns: ['customerID']\n"
     ]
    }
   ],
   "source": [
    "print('Categorical Columns:',cat_cols, end='\\n\\n')\n",
    "print('Numerical Columns:',num_cols, end='\\n\\n')\n",
    "print('High Cardinality Columns:',cat_but_car, end='\\n')"
   ]
  },
  {
   "cell_type": "markdown",
   "metadata": {},
   "source": [
    "### Analze Categorical Features"
   ]
  },
  {
   "cell_type": "code",
   "execution_count": 71,
   "metadata": {},
   "outputs": [
    {
     "name": "stdout",
     "output_type": "stream",
     "text": [
      "        gender  Ratio\n",
      "Male      3555 50.476\n",
      "Female    3488 49.524\n",
      "##########################################\n",
      "     Partner  Ratio\n",
      "No      3641 51.697\n",
      "Yes     3402 48.303\n",
      "##########################################\n",
      "     Dependents  Ratio\n",
      "No         4933 70.041\n",
      "Yes        2110 29.959\n",
      "##########################################\n",
      "     PhoneService  Ratio\n",
      "Yes          6361 90.317\n",
      "No            682  9.683\n",
      "##########################################\n",
      "                  MultipleLines  Ratio\n",
      "No                         3390 48.133\n",
      "Yes                        2971 42.184\n",
      "No phone service            682  9.683\n",
      "##########################################\n",
      "             InternetService  Ratio\n",
      "Fiber optic             3096 43.959\n",
      "DSL                     2421 34.375\n",
      "No                      1526 21.667\n",
      "##########################################\n",
      "                     OnlineSecurity  Ratio\n",
      "No                             3498 49.666\n",
      "Yes                            2019 28.667\n",
      "No internet service            1526 21.667\n",
      "##########################################\n",
      "                     OnlineBackup  Ratio\n",
      "No                           3088 43.845\n",
      "Yes                          2429 34.488\n",
      "No internet service          1526 21.667\n",
      "##########################################\n",
      "                     DeviceProtection  Ratio\n",
      "No                               3095 43.944\n",
      "Yes                              2422 34.389\n",
      "No internet service              1526 21.667\n",
      "##########################################\n",
      "                     TechSupport  Ratio\n",
      "No                          3473 49.311\n",
      "Yes                         2044 29.022\n",
      "No internet service         1526 21.667\n",
      "##########################################\n",
      "                     StreamingTV  Ratio\n",
      "No                          2810 39.898\n",
      "Yes                         2707 38.435\n",
      "No internet service         1526 21.667\n",
      "##########################################\n",
      "                     StreamingMovies  Ratio\n",
      "No                              2785 39.543\n",
      "Yes                             2732 38.790\n",
      "No internet service             1526 21.667\n",
      "##########################################\n",
      "                Contract  Ratio\n",
      "Month-to-month      3875 55.019\n",
      "Two year            1695 24.066\n",
      "One year            1473 20.914\n",
      "##########################################\n",
      "     PaperlessBilling  Ratio\n",
      "Yes              4171 59.222\n",
      "No               2872 40.778\n",
      "##########################################\n",
      "                           PaymentMethod  Ratio\n",
      "Electronic check                    2365 33.579\n",
      "Mailed check                        1612 22.888\n",
      "Bank transfer (automatic)           1544 21.922\n",
      "Credit card (automatic)             1522 21.610\n",
      "##########################################\n",
      "   SeniorCitizen  Ratio\n",
      "0           5901 83.785\n",
      "1           1142 16.215\n",
      "##########################################\n",
      "   Churn  Ratio\n",
      "0   5174 73.463\n",
      "1   1869 26.537\n",
      "##########################################\n"
     ]
    }
   ],
   "source": [
    "for col in cat_cols:\n",
    "    cat_summary(df, col)"
   ]
  },
  {
   "cell_type": "markdown",
   "metadata": {},
   "source": [
    "### Analyze Numerical Columns"
   ]
  },
  {
   "cell_type": "code",
   "execution_count": 72,
   "metadata": {},
   "outputs": [
    {
     "name": "stdout",
     "output_type": "stream",
     "text": [
      "count   7043.000\n",
      "mean      32.371\n",
      "std       24.559\n",
      "min        0.000\n",
      "5%         1.000\n",
      "10%        2.000\n",
      "20%        6.000\n",
      "30%       12.000\n",
      "40%       20.000\n",
      "50%       29.000\n",
      "60%       40.000\n",
      "70%       50.000\n",
      "80%       60.000\n",
      "90%       69.000\n",
      "95%       72.000\n",
      "99%       72.000\n",
      "max       72.000\n",
      "Name: tenure, dtype: float64\n"
     ]
    },
    {
     "data": {
      "image/png": "[encoded data removed]",
      "text/plain": [
       "<Figure size 640x480 with 1 Axes>"
      ]
     },
     "metadata": {},
     "output_type": "display_data"
    },
    {
     "name": "stdout",
     "output_type": "stream",
     "text": [
      "count   7043.000\n",
      "mean      64.762\n",
      "std       30.090\n",
      "min       18.250\n",
      "5%        19.650\n",
      "10%       20.050\n",
      "20%       25.050\n",
      "30%       45.850\n",
      "40%       58.830\n",
      "50%       70.350\n",
      "60%       79.100\n",
      "70%       85.500\n",
      "80%       94.250\n",
      "90%      102.600\n",
      "95%      107.400\n",
      "99%      114.729\n",
      "max      118.750\n",
      "Name: MonthlyCharges, dtype: float64\n"
     ]
    },
    {
     "data": {
      "image/png": "[encoded data removed]",
      "text/plain": [
       "<Figure size 640x480 with 1 Axes>"
      ]
     },
     "metadata": {},
     "output_type": "display_data"
    },
    {
     "name": "stdout",
     "output_type": "stream",
     "text": [
      "count   7032.000\n",
      "mean    2283.300\n",
      "std     2266.771\n",
      "min       18.800\n",
      "5%        49.605\n",
      "10%       84.600\n",
      "20%      267.070\n",
      "30%      551.995\n",
      "40%      944.170\n",
      "50%     1397.475\n",
      "60%     2048.950\n",
      "70%     3141.130\n",
      "80%     4475.410\n",
      "90%     5976.640\n",
      "95%     6923.590\n",
      "99%     8039.883\n",
      "max     8684.800\n",
      "Name: TotalCharges, dtype: float64\n"
     ]
    },
    {
     "data": {
      "image/png": "[encoded data removed]",
      "text/plain": [
       "<Figure size 640x480 with 1 Axes>"
      ]
     },
     "metadata": {},
     "output_type": "display_data"
    }
   ],
   "source": [
    "for col in num_cols:\n",
    "    num_summary(df, col, plot=True)"
   ]
  },
  {
   "cell_type": "code",
   "execution_count": 73,
   "metadata": {},
   "outputs": [
    {
     "data": {
      "image/png": "[encoded data removed]",
      "text/plain": [
       "<Figure size 640x480 with 1 Axes>"
      ]
     },
     "metadata": {},
     "output_type": "display_data"
    }
   ],
   "source": [
    "# When we look at the tenure, we see that there are a lot of 1-month customers followed by 70-month customers.\n",
    "# It might be due to different contracts, let's look at the tenure of people with monthly contracts and the tenure of people with 2-year contracts.\n",
    "\n",
    "df[df[\"Contract\"] == \"Month-to-month\"][\"tenure\"].hist(bins=20)\n",
    "plt.xlabel(\"tenure\")\n",
    "plt.title(\"Month-to-month\")\n",
    "plt.show()"
   ]
  },
  {
   "cell_type": "code",
   "execution_count": 74,
   "metadata": {},
   "outputs": [
    {
     "data": {
      "image/png": "[encoded data removed]",
      "text/plain": [
       "<Figure size 640x480 with 1 Axes>"
      ]
     },
     "metadata": {},
     "output_type": "display_data"
    }
   ],
   "source": [
    "df[df[\"Contract\"] == \"Two year\"][\"tenure\"].hist(bins=20)\n",
    "plt.xlabel(\"tenure\")\n",
    "plt.title(\"Two year\")\n",
    "plt.show()"
   ]
  },
  {
   "cell_type": "code",
   "execution_count": 75,
   "metadata": {},
   "outputs": [
    {
     "data": {
      "image/png": "[encoded data removed]",
      "text/plain": [
       "<Figure size 640x480 with 1 Axes>"
      ]
     },
     "metadata": {},
     "output_type": "display_data"
    }
   ],
   "source": [
    "# Looking at MonthyChargers, customers with monthly contracts may have higher average monthly payments.\n",
    "df[df[\"Contract\"] == \"Month-to-month\"][\"MonthlyCharges\"].hist(bins=20)\n",
    "plt.xlabel(\"MonthlyCharges\")\n",
    "plt.title(\"Month-to-month\")\n",
    "plt.show()"
   ]
  },
  {
   "cell_type": "code",
   "execution_count": 76,
   "metadata": {},
   "outputs": [
    {
     "data": {
      "image/png": "[encoded data removed]",
      "text/plain": [
       "<Figure size 640x480 with 1 Axes>"
      ]
     },
     "metadata": {},
     "output_type": "display_data"
    }
   ],
   "source": [
    "df[df[\"Contract\"] == \"Two year\"][\"MonthlyCharges\"].hist(bins=20)\n",
    "plt.xlabel(\"MonthlyCharges\")\n",
    "plt.title(\"Two year\")\n",
    "plt.show()"
   ]
  },
  {
   "cell_type": "markdown",
   "metadata": {},
   "source": [
    "### Numerical Features vs Target Feature"
   ]
  },
  {
   "cell_type": "code",
   "execution_count": 77,
   "metadata": {},
   "outputs": [
    {
     "name": "stdout",
     "output_type": "stream",
     "text": [
      "       tenure\n",
      "Churn        \n",
      "0      37.570\n",
      "1      17.979\n",
      "\n",
      "\n",
      "       MonthlyCharges\n",
      "Churn                \n",
      "0              61.265\n",
      "1              74.441\n",
      "\n",
      "\n",
      "       TotalCharges\n",
      "Churn              \n",
      "0          2555.344\n",
      "1          1531.796\n",
      "\n",
      "\n"
     ]
    }
   ],
   "source": [
    "for col in num_cols:\n",
    "    target_summary_with_num(df, \"Churn\", col)"
   ]
  },
  {
   "cell_type": "markdown",
   "metadata": {},
   "source": [
    "### Categorical Features vs Target Feature"
   ]
  },
  {
   "cell_type": "code",
   "execution_count": 78,
   "metadata": {},
   "outputs": [
    {
     "name": "stdout",
     "output_type": "stream",
     "text": [
      "gender\n",
      "        TARGET_MEAN  Count  Ratio\n",
      "Female        0.269   3488 49.524\n",
      "Male          0.262   3555 50.476\n",
      "\n",
      "\n",
      "Partner\n",
      "     TARGET_MEAN  Count  Ratio\n",
      "No         0.330   3641 51.697\n",
      "Yes        0.197   3402 48.303\n",
      "\n",
      "\n",
      "Dependents\n",
      "     TARGET_MEAN  Count  Ratio\n",
      "No         0.313   4933 70.041\n",
      "Yes        0.155   2110 29.959\n",
      "\n",
      "\n",
      "PhoneService\n",
      "     TARGET_MEAN  Count  Ratio\n",
      "No         0.249    682  9.683\n",
      "Yes        0.267   6361 90.317\n",
      "\n",
      "\n",
      "MultipleLines\n",
      "                  TARGET_MEAN  Count  Ratio\n",
      "No                      0.250   3390 48.133\n",
      "No phone service        0.249    682  9.683\n",
      "Yes                     0.286   2971 42.184\n",
      "\n",
      "\n",
      "InternetService\n",
      "             TARGET_MEAN  Count  Ratio\n",
      "DSL                0.190   2421 34.375\n",
      "Fiber optic        0.419   3096 43.959\n",
      "No                 0.074   1526 21.667\n",
      "\n",
      "\n",
      "OnlineSecurity\n",
      "                     TARGET_MEAN  Count  Ratio\n",
      "No                         0.418   3498 49.666\n",
      "No internet service        0.074   1526 21.667\n",
      "Yes                        0.146   2019 28.667\n",
      "\n",
      "\n",
      "OnlineBackup\n",
      "                     TARGET_MEAN  Count  Ratio\n",
      "No                         0.399   3088 43.845\n",
      "No internet service        0.074   1526 21.667\n",
      "Yes                        0.215   2429 34.488\n",
      "\n",
      "\n",
      "DeviceProtection\n",
      "                     TARGET_MEAN  Count  Ratio\n",
      "No                         0.391   3095 43.944\n",
      "No internet service        0.074   1526 21.667\n",
      "Yes                        0.225   2422 34.389\n",
      "\n",
      "\n",
      "TechSupport\n",
      "                     TARGET_MEAN  Count  Ratio\n",
      "No                         0.416   3473 49.311\n",
      "No internet service        0.074   1526 21.667\n",
      "Yes                        0.152   2044 29.022\n",
      "\n",
      "\n",
      "StreamingTV\n",
      "                     TARGET_MEAN  Count  Ratio\n",
      "No                         0.335   2810 39.898\n",
      "No internet service        0.074   1526 21.667\n",
      "Yes                        0.301   2707 38.435\n",
      "\n",
      "\n",
      "StreamingMovies\n",
      "                     TARGET_MEAN  Count  Ratio\n",
      "No                         0.337   2785 39.543\n",
      "No internet service        0.074   1526 21.667\n",
      "Yes                        0.299   2732 38.790\n",
      "\n",
      "\n",
      "Contract\n",
      "                TARGET_MEAN  Count  Ratio\n",
      "Month-to-month        0.427   3875 55.019\n",
      "One year              0.113   1473 20.914\n",
      "Two year              0.028   1695 24.066\n",
      "\n",
      "\n",
      "PaperlessBilling\n",
      "     TARGET_MEAN  Count  Ratio\n",
      "No         0.163   2872 40.778\n",
      "Yes        0.336   4171 59.222\n",
      "\n",
      "\n",
      "PaymentMethod\n",
      "                           TARGET_MEAN  Count  Ratio\n",
      "Bank transfer (automatic)        0.167   1544 21.922\n",
      "Credit card (automatic)          0.152   1522 21.610\n",
      "Electronic check                 0.453   2365 33.579\n",
      "Mailed check                     0.191   1612 22.888\n",
      "\n",
      "\n",
      "SeniorCitizen\n",
      "   TARGET_MEAN  Count  Ratio\n",
      "0        0.236   5901 83.785\n",
      "1        0.417   1142 16.215\n",
      "\n",
      "\n",
      "Churn\n",
      "   TARGET_MEAN  Count  Ratio\n",
      "0        0.000   5174 73.463\n",
      "1        1.000   1869 26.537\n",
      "\n",
      "\n"
     ]
    }
   ],
   "source": [
    "for col in cat_cols:\n",
    "    target_summary_with_cat(df, \"Churn\", col)"
   ]
  },
  {
   "cell_type": "markdown",
   "metadata": {},
   "source": [
    "### Correlation"
   ]
  },
  {
   "cell_type": "code",
   "execution_count": 79,
   "metadata": {},
   "outputs": [
    {
     "data": {
      "image/png": "[encoded data removed]",
      "text/plain": [
       "<Figure size 1800x1300 with 2 Axes>"
      ]
     },
     "metadata": {},
     "output_type": "display_data"
    }
   ],
   "source": [
    "# Correlation Matrix\n",
    "f, ax = plt.subplots(figsize=[18, 13])\n",
    "sns.heatmap(df[num_cols].corr(), annot=True, fmt=\".2f\", ax=ax, cmap=\"magma\")\n",
    "ax.set_title(\"Correlation Matrix\", fontsize=20)\n",
    "plt.show()"
   ]
  },
  {
   "cell_type": "markdown",
   "metadata": {},
   "source": [
    "TotalChargers is highly correlated with monthly wages and tenure"
   ]
  },
  {
   "cell_type": "code",
   "execution_count": 80,
   "metadata": {},
   "outputs": [
    {
     "data": {
      "text/plain": [
       "Churn             1.000\n",
       "MonthlyCharges    0.193\n",
       "SeniorCitizen     0.151\n",
       "TotalCharges     -0.199\n",
       "tenure           -0.352\n",
       "dtype: float64"
      ]
     },
     "execution_count": 80,
     "metadata": {},
     "output_type": "execute_result"
    }
   ],
   "source": [
    "df.corrwith(df[\"Churn\"]).sort_values(ascending=False)"
   ]
  },
  {
   "cell_type": "markdown",
   "metadata": {},
   "source": [
    "# 2. Feature Engineering"
   ]
  },
  {
   "cell_type": "markdown",
   "metadata": {},
   "source": [
    "### Missing Values"
   ]
  },
  {
   "cell_type": "code",
   "execution_count": 81,
   "metadata": {},
   "outputs": [
    {
     "name": "stdout",
     "output_type": "stream",
     "text": [
      "              n_miss  ratio\n",
      "TotalCharges      11  0.160\n"
     ]
    }
   ],
   "source": [
    "na_columns = missing_values_table(df, na_name=True)"
   ]
  },
  {
   "cell_type": "code",
   "execution_count": 82,
   "metadata": {},
   "outputs": [],
   "source": [
    "df[\"TotalCharges\"].fillna(df[\"TotalCharges\"].median(), inplace=True)"
   ]
  },
  {
   "cell_type": "code",
   "execution_count": 83,
   "metadata": {},
   "outputs": [
    {
     "name": "stdout",
     "output_type": "stream",
     "text": [
      "Empty DataFrame\n",
      "Columns: [n_miss, ratio]\n",
      "Index: []\n"
     ]
    },
    {
     "data": {
      "text/plain": [
       "[]"
      ]
     },
     "execution_count": 83,
     "metadata": {},
     "output_type": "execute_result"
    }
   ],
   "source": [
    "missing_values_table(df, na_name=True)"
   ]
  },
  {
   "cell_type": "markdown",
   "metadata": {},
   "source": [
    "# 3. Base Model"
   ]
  },
  {
   "cell_type": "code",
   "execution_count": 84,
   "metadata": {},
   "outputs": [],
   "source": [
    "dff = df.copy()\n",
    "cat_cols = [col for col in cat_cols if col not in [\"Churn\"]]\n",
    "\n",
    "dff = one_hot_encoder(dff, cat_cols, drop_first=True)\n",
    "\n",
    "y = dff[\"Churn\"]\n",
    "X = dff.drop([\"Churn\",\"customerID\"], axis=1)"
   ]
  },
  {
   "cell_type": "code",
   "execution_count": 25,
   "metadata": {},
   "outputs": [
    {
     "name": "stdout",
     "output_type": "stream",
     "text": [
      "########## LR ##########\n",
      "Accuracy: 0.8043\n",
      "Auc: 0.843\n",
      "Recall: 0.5447\n",
      "Precision: 0.6591\n",
      "F1: 0.5961\n",
      "########## KNN ##########\n",
      "Accuracy: 0.764\n",
      "Auc: 0.7467\n",
      "Recall: 0.4468\n",
      "Precision: 0.5718\n",
      "F1: 0.5011\n",
      "########## CART ##########\n",
      "Accuracy: 0.7277\n",
      "Auc: 0.6579\n",
      "Recall: 0.504\n",
      "Precision: 0.4876\n",
      "F1: 0.4954\n",
      "########## RF ##########\n",
      "Accuracy: 0.792\n",
      "Auc: 0.8254\n",
      "Recall: 0.4837\n",
      "Precision: 0.6451\n",
      "F1: 0.5526\n",
      "########## SVM ##########\n",
      "Accuracy: 0.7696\n",
      "Auc: 0.7141\n",
      "Recall: 0.2905\n",
      "Precision: 0.6495\n",
      "F1: 0.4009\n",
      "[22:52:02] WARNING: /var/folders/nz/j6p8yfhx1mv_0grj5xl4650h0000gp/T/abs_eek2t0c4ro/croots/recipe/xgboost-split_1659548960591/work/src/learner.cc:1115: Starting in XGBoost 1.3.0, the default evaluation metric used with the objective 'binary:logistic' was changed from 'error' to 'logloss'. Explicitly set eval_metric if you'd like to restore the old behavior.\n",
      "[22:52:02] WARNING: /var/folders/nz/j6p8yfhx1mv_0grj5xl4650h0000gp/T/abs_eek2t0c4ro/croots/recipe/xgboost-split_1659548960591/work/src/learner.cc:1115: Starting in XGBoost 1.3.0, the default evaluation metric used with the objective 'binary:logistic' was changed from 'error' to 'logloss'. Explicitly set eval_metric if you'd like to restore the old behavior.\n",
      "[22:52:03] WARNING: /var/folders/nz/j6p8yfhx1mv_0grj5xl4650h0000gp/T/abs_eek2t0c4ro/croots/recipe/xgboost-split_1659548960591/work/src/learner.cc:1115: Starting in XGBoost 1.3.0, the default evaluation metric used with the objective 'binary:logistic' was changed from 'error' to 'logloss'. Explicitly set eval_metric if you'd like to restore the old behavior.\n",
      "[22:52:04] WARNING: /var/folders/nz/j6p8yfhx1mv_0grj5xl4650h0000gp/T/abs_eek2t0c4ro/croots/recipe/xgboost-split_1659548960591/work/src/learner.cc:1115: Starting in XGBoost 1.3.0, the default evaluation metric used with the objective 'binary:logistic' was changed from 'error' to 'logloss'. Explicitly set eval_metric if you'd like to restore the old behavior.\n",
      "[22:52:04] WARNING: /var/folders/nz/j6p8yfhx1mv_0grj5xl4650h0000gp/T/abs_eek2t0c4ro/croots/recipe/xgboost-split_1659548960591/work/src/learner.cc:1115: Starting in XGBoost 1.3.0, the default evaluation metric used with the objective 'binary:logistic' was changed from 'error' to 'logloss'. Explicitly set eval_metric if you'd like to restore the old behavior.\n",
      "[22:52:05] WARNING: /var/folders/nz/j6p8yfhx1mv_0grj5xl4650h0000gp/T/abs_eek2t0c4ro/croots/recipe/xgboost-split_1659548960591/work/src/learner.cc:1115: Starting in XGBoost 1.3.0, the default evaluation metric used with the objective 'binary:logistic' was changed from 'error' to 'logloss'. Explicitly set eval_metric if you'd like to restore the old behavior.\n",
      "[22:52:05] WARNING: /var/folders/nz/j6p8yfhx1mv_0grj5xl4650h0000gp/T/abs_eek2t0c4ro/croots/recipe/xgboost-split_1659548960591/work/src/learner.cc:1115: Starting in XGBoost 1.3.0, the default evaluation metric used with the objective 'binary:logistic' was changed from 'error' to 'logloss'. Explicitly set eval_metric if you'd like to restore the old behavior.\n",
      "[22:52:06] WARNING: /var/folders/nz/j6p8yfhx1mv_0grj5xl4650h0000gp/T/abs_eek2t0c4ro/croots/recipe/xgboost-split_1659548960591/work/src/learner.cc:1115: Starting in XGBoost 1.3.0, the default evaluation metric used with the objective 'binary:logistic' was changed from 'error' to 'logloss'. Explicitly set eval_metric if you'd like to restore the old behavior.\n",
      "[22:52:07] WARNING: /var/folders/nz/j6p8yfhx1mv_0grj5xl4650h0000gp/T/abs_eek2t0c4ro/croots/recipe/xgboost-split_1659548960591/work/src/learner.cc:1115: Starting in XGBoost 1.3.0, the default evaluation metric used with the objective 'binary:logistic' was changed from 'error' to 'logloss'. Explicitly set eval_metric if you'd like to restore the old behavior.\n",
      "[22:52:07] WARNING: /var/folders/nz/j6p8yfhx1mv_0grj5xl4650h0000gp/T/abs_eek2t0c4ro/croots/recipe/xgboost-split_1659548960591/work/src/learner.cc:1115: Starting in XGBoost 1.3.0, the default evaluation metric used with the objective 'binary:logistic' was changed from 'error' to 'logloss'. Explicitly set eval_metric if you'd like to restore the old behavior.\n",
      "########## XGB ##########\n",
      "Accuracy: 0.7832\n",
      "Auc: 0.8244\n",
      "Recall: 0.5019\n",
      "Precision: 0.6132\n",
      "F1: 0.5514\n",
      "########## LightGBM ##########\n",
      "Accuracy: 0.7967\n",
      "Auc: 0.8361\n",
      "Recall: 0.5297\n",
      "Precision: 0.6437\n",
      "F1: 0.5805\n"
     ]
    }
   ],
   "source": [
    "models = [('LR', LogisticRegression(random_state=12345)),\n",
    "          ('KNN', KNeighborsClassifier()),\n",
    "          ('CART', DecisionTreeClassifier(random_state=12345)),\n",
    "          ('RF', RandomForestClassifier(random_state=12345)),\n",
    "          ('SVM', SVC(gamma='auto', random_state=12345)),\n",
    "          ('XGB', XGBClassifier(random_state=12345)),\n",
    "          (\"LightGBM\", LGBMClassifier(random_state=12345))]\n",
    "\n",
    "for name, model in models:\n",
    "    cv_results = cross_validate(model, X, y, cv=10, scoring=[\"accuracy\", \"f1\", \"roc_auc\", \"precision\", \"recall\"])\n",
    "    print(f\"########## {name} ##########\")\n",
    "    print(f\"Accuracy: {round(cv_results['test_accuracy'].mean(), 4)}\")\n",
    "    print(f\"Auc: {round(cv_results['test_roc_auc'].mean(), 4)}\")\n",
    "    print(f\"Recall: {round(cv_results['test_recall'].mean(), 4)}\")\n",
    "    print(f\"Precision: {round(cv_results['test_precision'].mean(), 4)}\")\n",
    "    print(f\"F1: {round(cv_results['test_f1'].mean(), 4)}\")"
   ]
  },
  {
   "cell_type": "markdown",
   "metadata": {},
   "source": [
    "### Outlier Analysis"
   ]
  },
  {
   "cell_type": "code",
   "execution_count": 85,
   "metadata": {},
   "outputs": [
    {
     "name": "stdout",
     "output_type": "stream",
     "text": [
      "tenure False\n",
      "MonthlyCharges False\n",
      "TotalCharges False\n"
     ]
    }
   ],
   "source": [
    "# Aykırı Değer Analizi ve Baskılama İşlemi\n",
    "for col in num_cols:\n",
    "    print(col, check_outlier(df, col))\n",
    "    if check_outlier(df, col):\n",
    "        replace_with_thresholds(df, col)"
   ]
  },
  {
   "cell_type": "markdown",
   "metadata": {},
   "source": [
    "### Feature Extraction"
   ]
  },
  {
   "cell_type": "code",
   "execution_count": 86,
   "metadata": {},
   "outputs": [],
   "source": [
    "# Create an annual categorical variable from the variable Tenure\n",
    "\n",
    "df.loc[(df[\"tenure\"]>=0) & (df[\"tenure\"]<=12),\"NEW_TENURE_YEAR\"] = \"0-1 Year\"\n",
    "df.loc[(df[\"tenure\"]>12) & (df[\"tenure\"]<=24),\"NEW_TENURE_YEAR\"] = \"1-2 Year\"\n",
    "df.loc[(df[\"tenure\"]>24) & (df[\"tenure\"]<=36),\"NEW_TENURE_YEAR\"] = \"2-3 Year\"\n",
    "df.loc[(df[\"tenure\"]>36) & (df[\"tenure\"]<=48),\"NEW_TENURE_YEAR\"] = \"3-4 Year\"\n",
    "df.loc[(df[\"tenure\"]>48) & (df[\"tenure\"]<=60),\"NEW_TENURE_YEAR\"] = \"4-5 Year\"\n",
    "df.loc[(df[\"tenure\"]>60) & (df[\"tenure\"]<=72),\"NEW_TENURE_YEAR\"] = \"5-6 Year\""
   ]
  },
  {
   "cell_type": "code",
   "execution_count": 87,
   "metadata": {},
   "outputs": [],
   "source": [
    "# Specify customers with a 1 or 2 year contract as Engaged\n",
    "df[\"NEW_Engaged\"] = df[\"Contract\"].apply(lambda x: 1 if x in [\"One year\",\"Two year\"] else 0)"
   ]
  },
  {
   "cell_type": "code",
   "execution_count": 88,
   "metadata": {},
   "outputs": [],
   "source": [
    "# People who do not receive any support, backup or protection\n",
    "df[\"NEW_noProt\"] = df.apply(lambda x: 1 if (x[\"OnlineBackup\"] != \"Yes\") or (x[\"DeviceProtection\"] != \"Yes\") or (x[\"TechSupport\"] != \"Yes\") else 0, axis=1)"
   ]
  },
  {
   "cell_type": "code",
   "execution_count": 89,
   "metadata": {},
   "outputs": [],
   "source": [
    "# Young customers with a monthly contract\n",
    "df[\"NEW_Young_Not_Engaged\"] = df.apply(lambda x: 1 if (x[\"NEW_Engaged\"] == 0) and (x[\"SeniorCitizen\"] == 0) else 0, axis=1)"
   ]
  },
  {
   "cell_type": "code",
   "execution_count": 90,
   "metadata": {},
   "outputs": [],
   "source": [
    "# Total number of services received by the person\n",
    "df['NEW_TotalServices'] = (df[['PhoneService', 'InternetService', 'OnlineSecurity',\n",
    "                                       'OnlineBackup', 'DeviceProtection', 'TechSupport',\n",
    "                                       'StreamingTV', 'StreamingMovies']]== 'Yes').sum(axis=1)"
   ]
  },
  {
   "cell_type": "code",
   "execution_count": 91,
   "metadata": {},
   "outputs": [],
   "source": [
    "# People who receive any streaming service\n",
    "df[\"NEW_FLAG_ANY_STREAMING\"] = df.apply(lambda x: 1 if (x[\"StreamingTV\"] == \"Yes\") or (x[\"StreamingMovies\"] == \"Yes\") else 0, axis=1)"
   ]
  },
  {
   "cell_type": "code",
   "execution_count": 92,
   "metadata": {},
   "outputs": [],
   "source": [
    "# Does the person make automatic payments?\n",
    "df[\"NEW_FLAG_AutoPayment\"] = df[\"PaymentMethod\"].apply(lambda x: 1 if x in [\"Bank transfer (automatic)\",\"Credit card (automatic)\"] else 0)"
   ]
  },
  {
   "cell_type": "code",
   "execution_count": 93,
   "metadata": {},
   "outputs": [],
   "source": [
    "# Average Monthly Payment\n",
    "df[\"NEW_AVG_Charges\"] = df[\"TotalCharges\"] / (df[\"tenure\"] + 1)"
   ]
  },
  {
   "cell_type": "code",
   "execution_count": 94,
   "metadata": {},
   "outputs": [],
   "source": [
    "# Increase in current price compared to average price\n",
    "df[\"NEW_Increase\"] = df[\"NEW_AVG_Charges\"] / df[\"MonthlyCharges\"]"
   ]
  },
  {
   "cell_type": "code",
   "execution_count": 95,
   "metadata": {},
   "outputs": [],
   "source": [
    "# Fee per service\n",
    "df[\"NEW_AVG_Service_Fee\"] = df[\"MonthlyCharges\"] / (df['NEW_TotalServices'] + 1)"
   ]
  },
  {
   "cell_type": "code",
   "execution_count": 96,
   "metadata": {},
   "outputs": [
    {
     "data": {
      "text/html": [
       "<div>\n",
       "<style scoped>\n",
       "    .dataframe tbody tr th:only-of-type {\n",
       "        vertical-align: middle;\n",
       "    }\n",
       "\n",
       "    .dataframe tbody tr th {\n",
       "        vertical-align: top;\n",
       "    }\n",
       "\n",
       "    .dataframe thead th {\n",
       "        text-align: right;\n",
       "    }\n",
       "</style>\n",
       "<table border=\"1\" class=\"dataframe\">\n",
       "  <thead>\n",
       "    <tr style=\"text-align: right;\">\n",
       "      <th></th>\n",
       "      <th>customerID</th>\n",
       "      <th>gender</th>\n",
       "      <th>SeniorCitizen</th>\n",
       "      <th>Partner</th>\n",
       "      <th>Dependents</th>\n",
       "      <th>tenure</th>\n",
       "      <th>PhoneService</th>\n",
       "      <th>MultipleLines</th>\n",
       "      <th>InternetService</th>\n",
       "      <th>OnlineSecurity</th>\n",
       "      <th>OnlineBackup</th>\n",
       "      <th>DeviceProtection</th>\n",
       "      <th>TechSupport</th>\n",
       "      <th>StreamingTV</th>\n",
       "      <th>StreamingMovies</th>\n",
       "      <th>Contract</th>\n",
       "      <th>PaperlessBilling</th>\n",
       "      <th>PaymentMethod</th>\n",
       "      <th>MonthlyCharges</th>\n",
       "      <th>TotalCharges</th>\n",
       "      <th>Churn</th>\n",
       "      <th>NEW_TENURE_YEAR</th>\n",
       "      <th>NEW_Engaged</th>\n",
       "      <th>NEW_noProt</th>\n",
       "      <th>NEW_Young_Not_Engaged</th>\n",
       "      <th>NEW_TotalServices</th>\n",
       "      <th>NEW_FLAG_ANY_STREAMING</th>\n",
       "      <th>NEW_FLAG_AutoPayment</th>\n",
       "      <th>NEW_AVG_Charges</th>\n",
       "      <th>NEW_Increase</th>\n",
       "      <th>NEW_AVG_Service_Fee</th>\n",
       "    </tr>\n",
       "  </thead>\n",
       "  <tbody>\n",
       "    <tr>\n",
       "      <th>0</th>\n",
       "      <td>7590-VHVEG</td>\n",
       "      <td>Female</td>\n",
       "      <td>0</td>\n",
       "      <td>Yes</td>\n",
       "      <td>No</td>\n",
       "      <td>1</td>\n",
       "      <td>No</td>\n",
       "      <td>No phone service</td>\n",
       "      <td>DSL</td>\n",
       "      <td>No</td>\n",
       "      <td>Yes</td>\n",
       "      <td>No</td>\n",
       "      <td>No</td>\n",
       "      <td>No</td>\n",
       "      <td>No</td>\n",
       "      <td>Month-to-month</td>\n",
       "      <td>Yes</td>\n",
       "      <td>Electronic check</td>\n",
       "      <td>29.850</td>\n",
       "      <td>29.850</td>\n",
       "      <td>0</td>\n",
       "      <td>0-1 Year</td>\n",
       "      <td>0</td>\n",
       "      <td>1</td>\n",
       "      <td>1</td>\n",
       "      <td>1</td>\n",
       "      <td>0</td>\n",
       "      <td>0</td>\n",
       "      <td>14.925</td>\n",
       "      <td>0.500</td>\n",
       "      <td>14.925</td>\n",
       "    </tr>\n",
       "    <tr>\n",
       "      <th>1</th>\n",
       "      <td>5575-GNVDE</td>\n",
       "      <td>Male</td>\n",
       "      <td>0</td>\n",
       "      <td>No</td>\n",
       "      <td>No</td>\n",
       "      <td>34</td>\n",
       "      <td>Yes</td>\n",
       "      <td>No</td>\n",
       "      <td>DSL</td>\n",
       "      <td>Yes</td>\n",
       "      <td>No</td>\n",
       "      <td>Yes</td>\n",
       "      <td>No</td>\n",
       "      <td>No</td>\n",
       "      <td>No</td>\n",
       "      <td>One year</td>\n",
       "      <td>No</td>\n",
       "      <td>Mailed check</td>\n",
       "      <td>56.950</td>\n",
       "      <td>1889.500</td>\n",
       "      <td>0</td>\n",
       "      <td>2-3 Year</td>\n",
       "      <td>1</td>\n",
       "      <td>1</td>\n",
       "      <td>0</td>\n",
       "      <td>3</td>\n",
       "      <td>0</td>\n",
       "      <td>0</td>\n",
       "      <td>53.986</td>\n",
       "      <td>0.948</td>\n",
       "      <td>14.238</td>\n",
       "    </tr>\n",
       "    <tr>\n",
       "      <th>2</th>\n",
       "      <td>3668-QPYBK</td>\n",
       "      <td>Male</td>\n",
       "      <td>0</td>\n",
       "      <td>No</td>\n",
       "      <td>No</td>\n",
       "      <td>2</td>\n",
       "      <td>Yes</td>\n",
       "      <td>No</td>\n",
       "      <td>DSL</td>\n",
       "      <td>Yes</td>\n",
       "      <td>Yes</td>\n",
       "      <td>No</td>\n",
       "      <td>No</td>\n",
       "      <td>No</td>\n",
       "      <td>No</td>\n",
       "      <td>Month-to-month</td>\n",
       "      <td>Yes</td>\n",
       "      <td>Mailed check</td>\n",
       "      <td>53.850</td>\n",
       "      <td>108.150</td>\n",
       "      <td>1</td>\n",
       "      <td>0-1 Year</td>\n",
       "      <td>0</td>\n",
       "      <td>1</td>\n",
       "      <td>1</td>\n",
       "      <td>3</td>\n",
       "      <td>0</td>\n",
       "      <td>0</td>\n",
       "      <td>36.050</td>\n",
       "      <td>0.669</td>\n",
       "      <td>13.463</td>\n",
       "    </tr>\n",
       "    <tr>\n",
       "      <th>3</th>\n",
       "      <td>7795-CFOCW</td>\n",
       "      <td>Male</td>\n",
       "      <td>0</td>\n",
       "      <td>No</td>\n",
       "      <td>No</td>\n",
       "      <td>45</td>\n",
       "      <td>No</td>\n",
       "      <td>No phone service</td>\n",
       "      <td>DSL</td>\n",
       "      <td>Yes</td>\n",
       "      <td>No</td>\n",
       "      <td>Yes</td>\n",
       "      <td>Yes</td>\n",
       "      <td>No</td>\n",
       "      <td>No</td>\n",
       "      <td>One year</td>\n",
       "      <td>No</td>\n",
       "      <td>Bank transfer (automatic)</td>\n",
       "      <td>42.300</td>\n",
       "      <td>1840.750</td>\n",
       "      <td>0</td>\n",
       "      <td>3-4 Year</td>\n",
       "      <td>1</td>\n",
       "      <td>1</td>\n",
       "      <td>0</td>\n",
       "      <td>3</td>\n",
       "      <td>0</td>\n",
       "      <td>1</td>\n",
       "      <td>40.016</td>\n",
       "      <td>0.946</td>\n",
       "      <td>10.575</td>\n",
       "    </tr>\n",
       "    <tr>\n",
       "      <th>4</th>\n",
       "      <td>9237-HQITU</td>\n",
       "      <td>Female</td>\n",
       "      <td>0</td>\n",
       "      <td>No</td>\n",
       "      <td>No</td>\n",
       "      <td>2</td>\n",
       "      <td>Yes</td>\n",
       "      <td>No</td>\n",
       "      <td>Fiber optic</td>\n",
       "      <td>No</td>\n",
       "      <td>No</td>\n",
       "      <td>No</td>\n",
       "      <td>No</td>\n",
       "      <td>No</td>\n",
       "      <td>No</td>\n",
       "      <td>Month-to-month</td>\n",
       "      <td>Yes</td>\n",
       "      <td>Electronic check</td>\n",
       "      <td>70.700</td>\n",
       "      <td>151.650</td>\n",
       "      <td>1</td>\n",
       "      <td>0-1 Year</td>\n",
       "      <td>0</td>\n",
       "      <td>1</td>\n",
       "      <td>1</td>\n",
       "      <td>1</td>\n",
       "      <td>0</td>\n",
       "      <td>0</td>\n",
       "      <td>50.550</td>\n",
       "      <td>0.715</td>\n",
       "      <td>35.350</td>\n",
       "    </tr>\n",
       "  </tbody>\n",
       "</table>\n",
       "</div>"
      ],
      "text/plain": [
       "   customerID  gender  SeniorCitizen Partner Dependents  tenure PhoneService     MultipleLines InternetService OnlineSecurity OnlineBackup DeviceProtection TechSupport  \\\n",
       "0  7590-VHVEG  Female              0     Yes         No       1           No  No phone service             DSL             No          Yes               No          No   \n",
       "1  5575-GNVDE    Male              0      No         No      34          Yes                No             DSL            Yes           No              Yes          No   \n",
       "2  3668-QPYBK    Male              0      No         No       2          Yes                No             DSL            Yes          Yes               No          No   \n",
       "3  7795-CFOCW    Male              0      No         No      45           No  No phone service             DSL            Yes           No              Yes         Yes   \n",
       "4  9237-HQITU  Female              0      No         No       2          Yes                No     Fiber optic             No           No               No          No   \n",
       "\n",
       "  StreamingTV StreamingMovies        Contract PaperlessBilling              PaymentMethod  MonthlyCharges  TotalCharges  Churn NEW_TENURE_YEAR  NEW_Engaged  NEW_noProt  \\\n",
       "0          No              No  Month-to-month              Yes           Electronic check          29.850        29.850      0        0-1 Year            0           1   \n",
       "1          No              No        One year               No               Mailed check          56.950      1889.500      0        2-3 Year            1           1   \n",
       "2          No              No  Month-to-month              Yes               Mailed check          53.850       108.150      1        0-1 Year            0           1   \n",
       "3          No              No        One year               No  Bank transfer (automatic)          42.300      1840.750      0        3-4 Year            1           1   \n",
       "4          No              No  Month-to-month              Yes           Electronic check          70.700       151.650      1        0-1 Year            0           1   \n",
       "\n",
       "   NEW_Young_Not_Engaged  NEW_TotalServices  NEW_FLAG_ANY_STREAMING  NEW_FLAG_AutoPayment  NEW_AVG_Charges  NEW_Increase  NEW_AVG_Service_Fee  \n",
       "0                      1                  1                       0                     0           14.925         0.500               14.925  \n",
       "1                      0                  3                       0                     0           53.986         0.948               14.238  \n",
       "2                      1                  3                       0                     0           36.050         0.669               13.463  \n",
       "3                      0                  3                       0                     1           40.016         0.946               10.575  \n",
       "4                      1                  1                       0                     0           50.550         0.715               35.350  "
      ]
     },
     "execution_count": 96,
     "metadata": {},
     "output_type": "execute_result"
    }
   ],
   "source": [
    "df.head()"
   ]
  },
  {
   "cell_type": "code",
   "execution_count": 97,
   "metadata": {},
   "outputs": [
    {
     "data": {
      "text/plain": [
       "(7043, 31)"
      ]
     },
     "execution_count": 97,
     "metadata": {},
     "output_type": "execute_result"
    }
   ],
   "source": [
    "df.shape"
   ]
  },
  {
   "cell_type": "markdown",
   "metadata": {},
   "source": [
    "### Encoding"
   ]
  },
  {
   "cell_type": "code",
   "execution_count": 98,
   "metadata": {},
   "outputs": [
    {
     "name": "stdout",
     "output_type": "stream",
     "text": [
      "Observations: 7043\n",
      "Variables: 31\n",
      "cat_cols: 24\n",
      "num_cols: 6\n",
      "cat_but_car: 1\n",
      "num_but_cat: 8\n"
     ]
    }
   ],
   "source": [
    "cat_cols, num_cols, cat_but_car = grab_col_names(df)"
   ]
  },
  {
   "cell_type": "code",
   "execution_count": 99,
   "metadata": {},
   "outputs": [
    {
     "data": {
      "text/plain": [
       "['gender', 'Partner', 'Dependents', 'PhoneService', 'PaperlessBilling']"
      ]
     },
     "execution_count": 99,
     "metadata": {},
     "output_type": "execute_result"
    }
   ],
   "source": [
    "binary_cols = [col for col in df.columns if df[col].dtypes == \"O\" and df[col].nunique() == 2]\n",
    "binary_cols"
   ]
  },
  {
   "cell_type": "code",
   "execution_count": 100,
   "metadata": {},
   "outputs": [],
   "source": [
    "# Label Encoding\n",
    "for col in binary_cols:\n",
    "    df = label_encoder(df, col)"
   ]
  },
  {
   "cell_type": "code",
   "execution_count": 101,
   "metadata": {},
   "outputs": [],
   "source": [
    "# One Hot Encoding\n",
    "cat_cols = [col for col in cat_cols if col not in binary_cols and col not in [\"Churn\", \"NEW_TotalServices\"]]\n",
    "cat_cols\n",
    "\n",
    "df = one_hot_encoder(df, cat_cols, drop_first=True)"
   ]
  },
  {
   "cell_type": "code",
   "execution_count": 102,
   "metadata": {},
   "outputs": [
    {
     "data": {
      "text/html": [
       "<div>\n",
       "<style scoped>\n",
       "    .dataframe tbody tr th:only-of-type {\n",
       "        vertical-align: middle;\n",
       "    }\n",
       "\n",
       "    .dataframe tbody tr th {\n",
       "        vertical-align: top;\n",
       "    }\n",
       "\n",
       "    .dataframe thead th {\n",
       "        text-align: right;\n",
       "    }\n",
       "</style>\n",
       "<table border=\"1\" class=\"dataframe\">\n",
       "  <thead>\n",
       "    <tr style=\"text-align: right;\">\n",
       "      <th></th>\n",
       "      <th>customerID</th>\n",
       "      <th>gender</th>\n",
       "      <th>Partner</th>\n",
       "      <th>Dependents</th>\n",
       "      <th>tenure</th>\n",
       "      <th>PhoneService</th>\n",
       "      <th>PaperlessBilling</th>\n",
       "      <th>MonthlyCharges</th>\n",
       "      <th>TotalCharges</th>\n",
       "      <th>Churn</th>\n",
       "      <th>NEW_TotalServices</th>\n",
       "      <th>NEW_AVG_Charges</th>\n",
       "      <th>NEW_Increase</th>\n",
       "      <th>NEW_AVG_Service_Fee</th>\n",
       "      <th>MultipleLines_No phone service</th>\n",
       "      <th>MultipleLines_Yes</th>\n",
       "      <th>InternetService_Fiber optic</th>\n",
       "      <th>InternetService_No</th>\n",
       "      <th>OnlineSecurity_No internet service</th>\n",
       "      <th>OnlineSecurity_Yes</th>\n",
       "      <th>OnlineBackup_No internet service</th>\n",
       "      <th>OnlineBackup_Yes</th>\n",
       "      <th>DeviceProtection_No internet service</th>\n",
       "      <th>DeviceProtection_Yes</th>\n",
       "      <th>TechSupport_No internet service</th>\n",
       "      <th>TechSupport_Yes</th>\n",
       "      <th>StreamingTV_No internet service</th>\n",
       "      <th>StreamingTV_Yes</th>\n",
       "      <th>StreamingMovies_No internet service</th>\n",
       "      <th>StreamingMovies_Yes</th>\n",
       "      <th>Contract_One year</th>\n",
       "      <th>Contract_Two year</th>\n",
       "      <th>PaymentMethod_Credit card (automatic)</th>\n",
       "      <th>PaymentMethod_Electronic check</th>\n",
       "      <th>PaymentMethod_Mailed check</th>\n",
       "      <th>NEW_TENURE_YEAR_1-2 Year</th>\n",
       "      <th>NEW_TENURE_YEAR_2-3 Year</th>\n",
       "      <th>NEW_TENURE_YEAR_3-4 Year</th>\n",
       "      <th>NEW_TENURE_YEAR_4-5 Year</th>\n",
       "      <th>NEW_TENURE_YEAR_5-6 Year</th>\n",
       "      <th>SeniorCitizen_1</th>\n",
       "      <th>NEW_Engaged_1</th>\n",
       "      <th>NEW_noProt_1</th>\n",
       "      <th>NEW_Young_Not_Engaged_1</th>\n",
       "      <th>NEW_FLAG_ANY_STREAMING_1</th>\n",
       "      <th>NEW_FLAG_AutoPayment_1</th>\n",
       "    </tr>\n",
       "  </thead>\n",
       "  <tbody>\n",
       "    <tr>\n",
       "      <th>0</th>\n",
       "      <td>7590-VHVEG</td>\n",
       "      <td>0</td>\n",
       "      <td>1</td>\n",
       "      <td>0</td>\n",
       "      <td>1</td>\n",
       "      <td>0</td>\n",
       "      <td>1</td>\n",
       "      <td>29.850</td>\n",
       "      <td>29.850</td>\n",
       "      <td>0</td>\n",
       "      <td>1</td>\n",
       "      <td>14.925</td>\n",
       "      <td>0.500</td>\n",
       "      <td>14.925</td>\n",
       "      <td>1</td>\n",
       "      <td>0</td>\n",
       "      <td>0</td>\n",
       "      <td>0</td>\n",
       "      <td>0</td>\n",
       "      <td>0</td>\n",
       "      <td>0</td>\n",
       "      <td>1</td>\n",
       "      <td>0</td>\n",
       "      <td>0</td>\n",
       "      <td>0</td>\n",
       "      <td>0</td>\n",
       "      <td>0</td>\n",
       "      <td>0</td>\n",
       "      <td>0</td>\n",
       "      <td>0</td>\n",
       "      <td>0</td>\n",
       "      <td>0</td>\n",
       "      <td>0</td>\n",
       "      <td>1</td>\n",
       "      <td>0</td>\n",
       "      <td>0</td>\n",
       "      <td>0</td>\n",
       "      <td>0</td>\n",
       "      <td>0</td>\n",
       "      <td>0</td>\n",
       "      <td>0</td>\n",
       "      <td>0</td>\n",
       "      <td>1</td>\n",
       "      <td>1</td>\n",
       "      <td>0</td>\n",
       "      <td>0</td>\n",
       "    </tr>\n",
       "    <tr>\n",
       "      <th>1</th>\n",
       "      <td>5575-GNVDE</td>\n",
       "      <td>1</td>\n",
       "      <td>0</td>\n",
       "      <td>0</td>\n",
       "      <td>34</td>\n",
       "      <td>1</td>\n",
       "      <td>0</td>\n",
       "      <td>56.950</td>\n",
       "      <td>1889.500</td>\n",
       "      <td>0</td>\n",
       "      <td>3</td>\n",
       "      <td>53.986</td>\n",
       "      <td>0.948</td>\n",
       "      <td>14.238</td>\n",
       "      <td>0</td>\n",
       "      <td>0</td>\n",
       "      <td>0</td>\n",
       "      <td>0</td>\n",
       "      <td>0</td>\n",
       "      <td>1</td>\n",
       "      <td>0</td>\n",
       "      <td>0</td>\n",
       "      <td>0</td>\n",
       "      <td>1</td>\n",
       "      <td>0</td>\n",
       "      <td>0</td>\n",
       "      <td>0</td>\n",
       "      <td>0</td>\n",
       "      <td>0</td>\n",
       "      <td>0</td>\n",
       "      <td>1</td>\n",
       "      <td>0</td>\n",
       "      <td>0</td>\n",
       "      <td>0</td>\n",
       "      <td>1</td>\n",
       "      <td>0</td>\n",
       "      <td>1</td>\n",
       "      <td>0</td>\n",
       "      <td>0</td>\n",
       "      <td>0</td>\n",
       "      <td>0</td>\n",
       "      <td>1</td>\n",
       "      <td>1</td>\n",
       "      <td>0</td>\n",
       "      <td>0</td>\n",
       "      <td>0</td>\n",
       "    </tr>\n",
       "    <tr>\n",
       "      <th>2</th>\n",
       "      <td>3668-QPYBK</td>\n",
       "      <td>1</td>\n",
       "      <td>0</td>\n",
       "      <td>0</td>\n",
       "      <td>2</td>\n",
       "      <td>1</td>\n",
       "      <td>1</td>\n",
       "      <td>53.850</td>\n",
       "      <td>108.150</td>\n",
       "      <td>1</td>\n",
       "      <td>3</td>\n",
       "      <td>36.050</td>\n",
       "      <td>0.669</td>\n",
       "      <td>13.463</td>\n",
       "      <td>0</td>\n",
       "      <td>0</td>\n",
       "      <td>0</td>\n",
       "      <td>0</td>\n",
       "      <td>0</td>\n",
       "      <td>1</td>\n",
       "      <td>0</td>\n",
       "      <td>1</td>\n",
       "      <td>0</td>\n",
       "      <td>0</td>\n",
       "      <td>0</td>\n",
       "      <td>0</td>\n",
       "      <td>0</td>\n",
       "      <td>0</td>\n",
       "      <td>0</td>\n",
       "      <td>0</td>\n",
       "      <td>0</td>\n",
       "      <td>0</td>\n",
       "      <td>0</td>\n",
       "      <td>0</td>\n",
       "      <td>1</td>\n",
       "      <td>0</td>\n",
       "      <td>0</td>\n",
       "      <td>0</td>\n",
       "      <td>0</td>\n",
       "      <td>0</td>\n",
       "      <td>0</td>\n",
       "      <td>0</td>\n",
       "      <td>1</td>\n",
       "      <td>1</td>\n",
       "      <td>0</td>\n",
       "      <td>0</td>\n",
       "    </tr>\n",
       "    <tr>\n",
       "      <th>3</th>\n",
       "      <td>7795-CFOCW</td>\n",
       "      <td>1</td>\n",
       "      <td>0</td>\n",
       "      <td>0</td>\n",
       "      <td>45</td>\n",
       "      <td>0</td>\n",
       "      <td>0</td>\n",
       "      <td>42.300</td>\n",
       "      <td>1840.750</td>\n",
       "      <td>0</td>\n",
       "      <td>3</td>\n",
       "      <td>40.016</td>\n",
       "      <td>0.946</td>\n",
       "      <td>10.575</td>\n",
       "      <td>1</td>\n",
       "      <td>0</td>\n",
       "      <td>0</td>\n",
       "      <td>0</td>\n",
       "      <td>0</td>\n",
       "      <td>1</td>\n",
       "      <td>0</td>\n",
       "      <td>0</td>\n",
       "      <td>0</td>\n",
       "      <td>1</td>\n",
       "      <td>0</td>\n",
       "      <td>1</td>\n",
       "      <td>0</td>\n",
       "      <td>0</td>\n",
       "      <td>0</td>\n",
       "      <td>0</td>\n",
       "      <td>1</td>\n",
       "      <td>0</td>\n",
       "      <td>0</td>\n",
       "      <td>0</td>\n",
       "      <td>0</td>\n",
       "      <td>0</td>\n",
       "      <td>0</td>\n",
       "      <td>1</td>\n",
       "      <td>0</td>\n",
       "      <td>0</td>\n",
       "      <td>0</td>\n",
       "      <td>1</td>\n",
       "      <td>1</td>\n",
       "      <td>0</td>\n",
       "      <td>0</td>\n",
       "      <td>1</td>\n",
       "    </tr>\n",
       "    <tr>\n",
       "      <th>4</th>\n",
       "      <td>9237-HQITU</td>\n",
       "      <td>0</td>\n",
       "      <td>0</td>\n",
       "      <td>0</td>\n",
       "      <td>2</td>\n",
       "      <td>1</td>\n",
       "      <td>1</td>\n",
       "      <td>70.700</td>\n",
       "      <td>151.650</td>\n",
       "      <td>1</td>\n",
       "      <td>1</td>\n",
       "      <td>50.550</td>\n",
       "      <td>0.715</td>\n",
       "      <td>35.350</td>\n",
       "      <td>0</td>\n",
       "      <td>0</td>\n",
       "      <td>1</td>\n",
       "      <td>0</td>\n",
       "      <td>0</td>\n",
       "      <td>0</td>\n",
       "      <td>0</td>\n",
       "      <td>0</td>\n",
       "      <td>0</td>\n",
       "      <td>0</td>\n",
       "      <td>0</td>\n",
       "      <td>0</td>\n",
       "      <td>0</td>\n",
       "      <td>0</td>\n",
       "      <td>0</td>\n",
       "      <td>0</td>\n",
       "      <td>0</td>\n",
       "      <td>0</td>\n",
       "      <td>0</td>\n",
       "      <td>1</td>\n",
       "      <td>0</td>\n",
       "      <td>0</td>\n",
       "      <td>0</td>\n",
       "      <td>0</td>\n",
       "      <td>0</td>\n",
       "      <td>0</td>\n",
       "      <td>0</td>\n",
       "      <td>0</td>\n",
       "      <td>1</td>\n",
       "      <td>1</td>\n",
       "      <td>0</td>\n",
       "      <td>0</td>\n",
       "    </tr>\n",
       "  </tbody>\n",
       "</table>\n",
       "</div>"
      ],
      "text/plain": [
       "   customerID  gender  Partner  Dependents  tenure  PhoneService  PaperlessBilling  MonthlyCharges  TotalCharges  Churn  NEW_TotalServices  NEW_AVG_Charges  \\\n",
       "0  7590-VHVEG       0        1           0       1             0                 1          29.850        29.850      0                  1           14.925   \n",
       "1  5575-GNVDE       1        0           0      34             1                 0          56.950      1889.500      0                  3           53.986   \n",
       "2  3668-QPYBK       1        0           0       2             1                 1          53.850       108.150      1                  3           36.050   \n",
       "3  7795-CFOCW       1        0           0      45             0                 0          42.300      1840.750      0                  3           40.016   \n",
       "4  9237-HQITU       0        0           0       2             1                 1          70.700       151.650      1                  1           50.550   \n",
       "\n",
       "   NEW_Increase  NEW_AVG_Service_Fee  MultipleLines_No phone service  MultipleLines_Yes  InternetService_Fiber optic  InternetService_No  \\\n",
       "0         0.500               14.925                               1                  0                            0                   0   \n",
       "1         0.948               14.238                               0                  0                            0                   0   \n",
       "2         0.669               13.463                               0                  0                            0                   0   \n",
       "3         0.946               10.575                               1                  0                            0                   0   \n",
       "4         0.715               35.350                               0                  0                            1                   0   \n",
       "\n",
       "   OnlineSecurity_No internet service  OnlineSecurity_Yes  OnlineBackup_No internet service  OnlineBackup_Yes  DeviceProtection_No internet service  \\\n",
       "0                                   0                   0                                 0                 1                                     0   \n",
       "1                                   0                   1                                 0                 0                                     0   \n",
       "2                                   0                   1                                 0                 1                                     0   \n",
       "3                                   0                   1                                 0                 0                                     0   \n",
       "4                                   0                   0                                 0                 0                                     0   \n",
       "\n",
       "   DeviceProtection_Yes  TechSupport_No internet service  TechSupport_Yes  StreamingTV_No internet service  StreamingTV_Yes  StreamingMovies_No internet service  \\\n",
       "0                     0                                0                0                                0                0                                    0   \n",
       "1                     1                                0                0                                0                0                                    0   \n",
       "2                     0                                0                0                                0                0                                    0   \n",
       "3                     1                                0                1                                0                0                                    0   \n",
       "4                     0                                0                0                                0                0                                    0   \n",
       "\n",
       "   StreamingMovies_Yes  Contract_One year  Contract_Two year  PaymentMethod_Credit card (automatic)  PaymentMethod_Electronic check  PaymentMethod_Mailed check  \\\n",
       "0                    0                  0                  0                                      0                               1                           0   \n",
       "1                    0                  1                  0                                      0                               0                           1   \n",
       "2                    0                  0                  0                                      0                               0                           1   \n",
       "3                    0                  1                  0                                      0                               0                           0   \n",
       "4                    0                  0                  0                                      0                               1                           0   \n",
       "\n",
       "   NEW_TENURE_YEAR_1-2 Year  NEW_TENURE_YEAR_2-3 Year  NEW_TENURE_YEAR_3-4 Year  NEW_TENURE_YEAR_4-5 Year  NEW_TENURE_YEAR_5-6 Year  SeniorCitizen_1  NEW_Engaged_1  \\\n",
       "0                         0                         0                         0                         0                         0                0              0   \n",
       "1                         0                         1                         0                         0                         0                0              1   \n",
       "2                         0                         0                         0                         0                         0                0              0   \n",
       "3                         0                         0                         1                         0                         0                0              1   \n",
       "4                         0                         0                         0                         0                         0                0              0   \n",
       "\n",
       "   NEW_noProt_1  NEW_Young_Not_Engaged_1  NEW_FLAG_ANY_STREAMING_1  NEW_FLAG_AutoPayment_1  \n",
       "0             1                        1                         0                       0  \n",
       "1             1                        0                         0                       0  \n",
       "2             1                        1                         0                       0  \n",
       "3             1                        0                         0                       1  \n",
       "4             1                        1                         0                       0  "
      ]
     },
     "execution_count": 102,
     "metadata": {},
     "output_type": "execute_result"
    }
   ],
   "source": [
    "df.head()"
   ]
  },
  {
   "cell_type": "markdown",
   "metadata": {},
   "source": [
    "# Model"
   ]
  },
  {
   "cell_type": "code",
   "execution_count": 103,
   "metadata": {},
   "outputs": [],
   "source": [
    "y = df[\"Churn\"]\n",
    "X = df.drop([\"Churn\",\"customerID\"], axis=1)"
   ]
  },
  {
   "cell_type": "code",
   "execution_count": 106,
   "metadata": {},
   "outputs": [
    {
     "name": "stdout",
     "output_type": "stream",
     "text": [
      "########## LR ##########\n",
      "Accuracy: 0.8038\n",
      "Auc: 0.8458\n",
      "Recall: 0.5131\n",
      "Precision: 0.6724\n",
      "F1: 0.5807\n",
      "########## KNN ##########\n",
      "Accuracy: 0.7704\n",
      "Auc: 0.754\n",
      "Recall: 0.465\n",
      "Precision: 0.5861\n",
      "F1: 0.5176\n",
      "########## CART ##########\n",
      "Accuracy: 0.728\n",
      "Auc: 0.6574\n",
      "Recall: 0.5035\n",
      "Precision: 0.4875\n",
      "F1: 0.4953\n",
      "########## RF ##########\n",
      "Accuracy: 0.7914\n",
      "Auc: 0.8269\n",
      "Recall: 0.4998\n",
      "Precision: 0.6374\n",
      "F1: 0.5598\n",
      "########## SVM ##########\n",
      "Accuracy: 0.7681\n",
      "Auc: 0.7255\n",
      "Recall: 0.2579\n",
      "Precision: 0.6657\n",
      "F1: 0.3708\n",
      "[23:02:27] WARNING: /var/folders/nz/j6p8yfhx1mv_0grj5xl4650h0000gp/T/abs_eek2t0c4ro/croots/recipe/xgboost-split_1659548960591/work/src/learner.cc:1115: Starting in XGBoost 1.3.0, the default evaluation metric used with the objective 'binary:logistic' was changed from 'error' to 'logloss'. Explicitly set eval_metric if you'd like to restore the old behavior.\n",
      "[23:02:27] WARNING: /var/folders/nz/j6p8yfhx1mv_0grj5xl4650h0000gp/T/abs_eek2t0c4ro/croots/recipe/xgboost-split_1659548960591/work/src/learner.cc:1115: Starting in XGBoost 1.3.0, the default evaluation metric used with the objective 'binary:logistic' was changed from 'error' to 'logloss'. Explicitly set eval_metric if you'd like to restore the old behavior.\n",
      "[23:02:28] WARNING: /var/folders/nz/j6p8yfhx1mv_0grj5xl4650h0000gp/T/abs_eek2t0c4ro/croots/recipe/xgboost-split_1659548960591/work/src/learner.cc:1115: Starting in XGBoost 1.3.0, the default evaluation metric used with the objective 'binary:logistic' was changed from 'error' to 'logloss'. Explicitly set eval_metric if you'd like to restore the old behavior.\n",
      "[23:02:29] WARNING: /var/folders/nz/j6p8yfhx1mv_0grj5xl4650h0000gp/T/abs_eek2t0c4ro/croots/recipe/xgboost-split_1659548960591/work/src/learner.cc:1115: Starting in XGBoost 1.3.0, the default evaluation metric used with the objective 'binary:logistic' was changed from 'error' to 'logloss'. Explicitly set eval_metric if you'd like to restore the old behavior.\n",
      "[23:02:30] WARNING: /var/folders/nz/j6p8yfhx1mv_0grj5xl4650h0000gp/T/abs_eek2t0c4ro/croots/recipe/xgboost-split_1659548960591/work/src/learner.cc:1115: Starting in XGBoost 1.3.0, the default evaluation metric used with the objective 'binary:logistic' was changed from 'error' to 'logloss'. Explicitly set eval_metric if you'd like to restore the old behavior.\n",
      "[23:02:30] WARNING: /var/folders/nz/j6p8yfhx1mv_0grj5xl4650h0000gp/T/abs_eek2t0c4ro/croots/recipe/xgboost-split_1659548960591/work/src/learner.cc:1115: Starting in XGBoost 1.3.0, the default evaluation metric used with the objective 'binary:logistic' was changed from 'error' to 'logloss'. Explicitly set eval_metric if you'd like to restore the old behavior.\n",
      "[23:02:31] WARNING: /var/folders/nz/j6p8yfhx1mv_0grj5xl4650h0000gp/T/abs_eek2t0c4ro/croots/recipe/xgboost-split_1659548960591/work/src/learner.cc:1115: Starting in XGBoost 1.3.0, the default evaluation metric used with the objective 'binary:logistic' was changed from 'error' to 'logloss'. Explicitly set eval_metric if you'd like to restore the old behavior.\n",
      "[23:02:32] WARNING: /var/folders/nz/j6p8yfhx1mv_0grj5xl4650h0000gp/T/abs_eek2t0c4ro/croots/recipe/xgboost-split_1659548960591/work/src/learner.cc:1115: Starting in XGBoost 1.3.0, the default evaluation metric used with the objective 'binary:logistic' was changed from 'error' to 'logloss'. Explicitly set eval_metric if you'd like to restore the old behavior.\n",
      "[23:02:33] WARNING: /var/folders/nz/j6p8yfhx1mv_0grj5xl4650h0000gp/T/abs_eek2t0c4ro/croots/recipe/xgboost-split_1659548960591/work/src/learner.cc:1115: Starting in XGBoost 1.3.0, the default evaluation metric used with the objective 'binary:logistic' was changed from 'error' to 'logloss'. Explicitly set eval_metric if you'd like to restore the old behavior.\n",
      "[23:02:33] WARNING: /var/folders/nz/j6p8yfhx1mv_0grj5xl4650h0000gp/T/abs_eek2t0c4ro/croots/recipe/xgboost-split_1659548960591/work/src/learner.cc:1115: Starting in XGBoost 1.3.0, the default evaluation metric used with the objective 'binary:logistic' was changed from 'error' to 'logloss'. Explicitly set eval_metric if you'd like to restore the old behavior.\n",
      "########## XGB ##########\n",
      "Accuracy: 0.7874\n",
      "Auc: 0.827\n",
      "Recall: 0.4998\n",
      "Precision: 0.6248\n",
      "F1: 0.5551\n",
      "########## LightGBM ##########\n",
      "Accuracy: 0.7974\n",
      "Auc: 0.8353\n",
      "Recall: 0.5297\n",
      "Precision: 0.6448\n",
      "F1: 0.5814\n"
     ]
    }
   ],
   "source": [
    "models = [('LR', LogisticRegression(random_state=12345)),\n",
    "          ('KNN', KNeighborsClassifier()),\n",
    "          ('CART', DecisionTreeClassifier(random_state=12345)),\n",
    "          ('RF', RandomForestClassifier(random_state=12345)),\n",
    "          ('SVM', SVC(gamma='auto', random_state=12345)),\n",
    "          ('XGB', XGBClassifier(random_state=12345)),\n",
    "          (\"LightGBM\", LGBMClassifier(random_state=12345))]\n",
    "\n",
    "for name, model in models:\n",
    "    cv_results = cross_validate(model, X, y, cv=10, scoring=[\"accuracy\", \"f1\", \"roc_auc\", \"precision\", \"recall\"])\n",
    "    print(f\"########## {name} ##########\")\n",
    "    print(f\"Accuracy: {round(cv_results['test_accuracy'].mean(), 4)}\")\n",
    "    print(f\"Auc: {round(cv_results['test_roc_auc'].mean(), 4)}\")\n",
    "    print(f\"Recall: {round(cv_results['test_recall'].mean(), 4)}\")\n",
    "    print(f\"Precision: {round(cv_results['test_precision'].mean(), 4)}\")\n",
    "    print(f\"F1: {round(cv_results['test_f1'].mean(), 4)}\")"
   ]
  },
  {
   "cell_type": "markdown",
   "metadata": {},
   "source": [
    "### LightGBM"
   ]
  },
  {
   "cell_type": "code",
   "execution_count": 107,
   "metadata": {},
   "outputs": [
    {
     "name": "stdout",
     "output_type": "stream",
     "text": [
      "Fitting 5 folds for each of 36 candidates, totalling 180 fits\n"
     ]
    }
   ],
   "source": [
    "lgbm_model = LGBMClassifier(random_state=17)\n",
    "\n",
    "lgbm_params = {\"learning_rate\": [0.01, 0.1, 0.001],\n",
    "               \"n_estimators\": [100, 300, 500, 1000],\n",
    "               \"colsample_bytree\": [0.5, 0.7, 1]}\n",
    "\n",
    "lgbm_best_grid = GridSearchCV(lgbm_model, lgbm_params, cv=5, n_jobs=-1, verbose=True).fit(X, y)"
   ]
  },
  {
   "cell_type": "code",
   "execution_count": 111,
   "metadata": {},
   "outputs": [
    {
     "data": {
      "text/plain": [
       "{'colsample_bytree': 0.5, 'learning_rate': 0.01, 'n_estimators': 500}"
      ]
     },
     "execution_count": 111,
     "metadata": {},
     "output_type": "execute_result"
    }
   ],
   "source": [
    "lgbm_best_grid.best_params_"
   ]
  },
  {
   "cell_type": "code",
   "execution_count": 108,
   "metadata": {},
   "outputs": [],
   "source": [
    "lgbm_final = lgbm_model.set_params(**lgbm_best_grid.best_params_, random_state=17).fit(X, y)"
   ]
  },
  {
   "cell_type": "code",
   "execution_count": null,
   "metadata": {},
   "outputs": [],
   "source": [
    "cv_results = cross_validate(lgbm_final, X, y, cv=10, scoring=[\"accuracy\", \"f1\", \"roc_auc\"])"
   ]
  },
  {
   "cell_type": "code",
   "execution_count": 118,
   "metadata": {},
   "outputs": [
    {
     "name": "stdout",
     "output_type": "stream",
     "text": [
      "LightGBM Final Tuned Model\n",
      "Best Parameters: {'colsample_bytree': 0.5, 'learning_rate': 0.01, 'n_estimators': 500}\n",
      "----------------------------------------\n",
      "Fit Time: 1.0948\n",
      "Accuracy: 0.8031\n",
      "Auc: 0.8454\n",
      "F1: 0.589\n"
     ]
    }
   ],
   "source": [
    "print('LightGBM Final Tuned Model')\n",
    "print('Best Parameters:', lgbm_best_grid.best_params_)\n",
    "print('--' * 20)\n",
    "print(f\"Fit Time: {round(cv_results['fit_time'].mean(), 4)}\")\n",
    "print(f\"Accuracy: {round(cv_results['test_accuracy'].mean(), 4)}\")\n",
    "print(f\"Auc: {round(cv_results['test_roc_auc'].mean(), 4)}\")\n",
    "print(f\"F1: {round(cv_results['test_f1'].mean(), 4)}\")"
   ]
  },
  {
   "cell_type": "code",
   "execution_count": 125,
   "metadata": {},
   "outputs": [],
   "source": [
    "y_pred = lgbm_final.predict(X)"
   ]
  },
  {
   "cell_type": "code",
   "execution_count": 134,
   "metadata": {},
   "outputs": [
    {
     "data": {
      "text/plain": [
       "array([[4810,  364],\n",
       "       [ 723, 1146]])"
      ]
     },
     "execution_count": 134,
     "metadata": {},
     "output_type": "execute_result"
    }
   ],
   "source": [
    "# Confusion Matrix\n",
    "confusion_matrix(y, y_pred)"
   ]
  },
  {
   "cell_type": "markdown",
   "metadata": {},
   "source": [
    "# Feature Importance"
   ]
  },
  {
   "cell_type": "code",
   "execution_count": 124,
   "metadata": {},
   "outputs": [
    {
     "data": {
      "image/png": "[encoded data removed]",
      "text/plain": [
       "<Figure size 1000x1000 with 1 Axes>"
      ]
     },
     "metadata": {},
     "output_type": "display_data"
    }
   ],
   "source": [
    "plot_importance(lgbm_final, X, 15)"
   ]
  }
 ],
 "metadata": {
  "kernelspec": {
   "display_name": "Python 3.9.13 ('dsprojects')",
   "language": "python",
   "name": "python3"
  },
  "language_info": {
   "codemirror_mode": {
    "name": "ipython",
    "version": 3
   },
   "file_extension": ".py",
   "mimetype": "text/x-python",
   "name": "python",
   "nbconvert_exporter": "python",
   "pygments_lexer": "ipython3",
   "version": "3.9.13"
  },
  "orig_nbformat": 4,
  "vscode": {
   "interpreter": {
    "hash": "78fd003daa28446435b2b6538571e501a8b37e58f7b5c6cbe8ad03b3dfc8ae3a"
   }
  }
 },
 "nbformat": 4,
 "nbformat_minor": 2
}
